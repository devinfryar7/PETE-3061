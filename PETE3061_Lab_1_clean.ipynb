{
 "cells": [
  {
   "cell_type": "markdown",
   "metadata": {},
   "source": [
    "# Introduction to Modeling"
   ]
  },
  {
   "cell_type": "markdown",
   "metadata": {},
   "source": [
    "## What are models?"
   ]
  },
  {
   "cell_type": "markdown",
   "metadata": {},
   "source": [
    "https://en.wikipedia.org/wiki/Mathematical_model\n",
    "\n",
    "A model is the use of mathematics as the language to describe a natural or man-made system. Models are used to understand systems and to help make predictions of the system behavior. Great models become Laws (like Newton's Laws or Einstein's Relativity). The key to modeling is to keep it simple, but not too simple.\n",
    "\n",
    "It is tradition that models are organized as follows:\n",
    "\n",
    "* Governing equations\n",
    "* Supplementary sub-models\n",
    "    * Defining equations\n",
    "    * Constitutive equations\n",
    "* Assumptions and constraints\n",
    "    * Initial and boundary conditions\n",
    "    * Classical constraints and kinematic equations\n",
    "\n",
    "There are multiple classifications of Mathematical Models.\n",
    "https://en.wikipedia.org/wiki/Mathematical_model#Classifications\n",
    "\n"
   ]
  },
  {
   "cell_type": "markdown",
   "metadata": {},
   "source": [
    "In the simplest of terms a mathmatical model is just using independent variables (time, location, depth, etc.) to determine dependent variables (location, pressure, volume, etc.).\n",
    "\n",
    "$$\\begin{array}{c}\n",
    "Dependent\\\\variable\n",
    "\\end{array} = f\\left(\\begin{array}{c}\n",
    "independent\\\\variable\n",
    "\\end{array}, parameters, \\begin{array}{c}\n",
    "forcing\\\\functions\n",
    "\\end{array}\\right )$$\n",
    "\n",
    "Dependent variables are characteristic of the system. Independent variables are usually dimensions or time. Parameters are some form of the systems properties. Forcing functions are external influences to the system.\n"
   ]
  },
  {
   "cell_type": "markdown",
   "metadata": {},
   "source": [
    "## An example modeling problem"
   ]
  },
  {
   "cell_type": "markdown",
   "metadata": {},
   "source": [
    "### Newton's 2nd Law of Motion\n",
    "The force acting on the body $F$ in *Newtons (N)* is equal to the mass $m$ of the body in *kg* times its acceleration $a$ in $m/s^2$\n",
    "\n",
    "$${F=ma}$$\n",
    "\n",
    "If we rearrange with get a more desciptive form:\n",
    "\n",
    "$$a = \\frac{F}{m}$$\n",
    "\n",
    "where $a$ is the dependent variable, $m$ is the parameter reflecting a property of the system, and $F$ is obviously the forcing function.\n",
    "\n",
    "The model has the following characteristics:\n",
    "1. It describes a natural process\n",
    "2. Its an idealization or simplifications (it doesn't include quantum or relativistic corrections)\n",
    "3. It renders useful and reproducable results that can be used to predict behavior of a system\n",
    "\n",
    "It is algebraic, so it is super easy to solve. The real fun is when we bring back the Calculus and solve the problem of a *Tom Petty Object* (a free falling body). \n",
    "\n",
    "![falling body](fig1.png)\n",
    "\n",
    "Using the differential form of acceleration (the infinitesimal change of velocity with the change in time)  we can rewrite the 2nd Law as:\n",
    "\n",
    "$$\\frac{dv}{dt}=\\frac{F}{m}$$\n",
    "\n",
    "The next step is a force balance, the force down $F_D$ has to equal the force up $F_U$. The downward force is that of gravity:\n",
    "\n",
    "$$F_D=mg$$\n",
    "\n",
    "where g is gravitational constant $9.81m/s^2$ on Earth and assuming down is the \"positive\" direction. The upward force is slightly more complex and is known as *Drag Force*. For the time being, we will need to create a secondary (constituent) model for drag. We will assume it is linearly proportional to velocity and acts in the upward \"negative\" direction.\n",
    "\n",
    "$$F_U=-cv$$\n",
    "\n",
    "$c$ is the proportionality constant called the *drag coefficient* and is in $kg/s$.\n",
    "\n",
    "Therefore doing our force balance, we come up with the following equation:\n",
    "\n",
    "$$\\frac{dv}{dt}=\\frac{F}{m}=\\frac{mg-cv}{m}$$\n",
    "\n",
    "This can be simplified into the following differential equation:\n",
    "\n",
    "$$\\frac{dv}{dt}=g-\\frac{c}{m}v$$"
   ]
  },
  {
   "cell_type": "markdown",
   "metadata": {},
   "source": [
    "## Solving the Equation\n",
    "### Symbolic Solutions in Python (Sympy)"
   ]
  },
  {
   "cell_type": "markdown",
   "metadata": {},
   "source": [
    "#### Call the Sympy library\n",
    "This line also initiates the \"pretty\" printing functionality of sympy"
   ]
  },
  {
   "cell_type": "code",
   "execution_count": null,
   "metadata": {},
   "outputs": [],
   "source": []
  },
  {
   "cell_type": "markdown",
   "metadata": {},
   "source": [
    "#### Setup the variables and Build the Function"
   ]
  },
  {
   "cell_type": "code",
   "execution_count": null,
   "metadata": {},
   "outputs": [],
   "source": []
  },
  {
   "cell_type": "markdown",
   "metadata": {},
   "source": [
    "#### Determine what kind of ODE it is (wish this existed when I took DiffEQ)"
   ]
  },
  {
   "cell_type": "code",
   "execution_count": null,
   "metadata": {},
   "outputs": [],
   "source": []
  },
  {
   "cell_type": "markdown",
   "metadata": {},
   "source": [
    "#### Solve for the general expression"
   ]
  },
  {
   "cell_type": "code",
   "execution_count": null,
   "metadata": {},
   "outputs": [],
   "source": []
  },
  {
   "cell_type": "markdown",
   "metadata": {},
   "source": [
    "#### Find the exact solution for initial conditions ($v=0$ at $t = 0$)\n"
   ]
  },
  {
   "cell_type": "code",
   "execution_count": null,
   "metadata": {},
   "outputs": [],
   "source": []
  },
  {
   "cell_type": "code",
   "execution_count": null,
   "metadata": {},
   "outputs": [],
   "source": []
  },
  {
   "cell_type": "markdown",
   "metadata": {},
   "source": [
    "#### Substitute Coefficient to Find Exact Solution"
   ]
  },
  {
   "cell_type": "code",
   "execution_count": null,
   "metadata": {},
   "outputs": [],
   "source": []
  },
  {
   "cell_type": "code",
   "execution_count": null,
   "metadata": {},
   "outputs": [],
   "source": []
  },
  {
   "cell_type": "markdown",
   "metadata": {},
   "source": [
    "#### Make it pretty with simplify"
   ]
  },
  {
   "cell_type": "code",
   "execution_count": null,
   "metadata": {},
   "outputs": [],
   "source": []
  },
  {
   "cell_type": "markdown",
   "metadata": {},
   "source": [
    "#### Evaluating for specific values (Substitution)\n",
    "If the falling object is on Earth ($9.81m/s$), has a mass of $68kg$, and has a drag coefficient of $12.5kg/s$. "
   ]
  },
  {
   "cell_type": "code",
   "execution_count": null,
   "metadata": {},
   "outputs": [],
   "source": []
  },
  {
   "cell_type": "code",
   "execution_count": null,
   "metadata": {},
   "outputs": [],
   "source": []
  },
  {
   "cell_type": "markdown",
   "metadata": {},
   "source": [
    "#### Plotting "
   ]
  },
  {
   "cell_type": "code",
   "execution_count": null,
   "metadata": {},
   "outputs": [],
   "source": []
  },
  {
   "cell_type": "code",
   "execution_count": null,
   "metadata": {},
   "outputs": [],
   "source": []
  },
  {
   "cell_type": "markdown",
   "metadata": {},
   "source": [
    "### Numerical Solution"
   ]
  },
  {
   "cell_type": "markdown",
   "metadata": {},
   "source": [
    "We can approximate the Second law derivative using what is known as a *finite difference*, meaning we can compute the slope on ever more refined finite intervals. So an approximation of the derivative is as follows:\n",
    "\n",
    "$$\\frac{dv}{dt}\\cong\\frac{\\Delta v}{\\Delta t}=\\frac{v(t_{i+1})-v(t_i)}{t_{i+1}-t_i}$$\n",
    "\n",
    "where $\\Delta v$ and $\\Delta t$ are the differences in velocity and time computed over finite intervals. This is visualized below."
   ]
  },
  {
   "cell_type": "markdown",
   "metadata": {},
   "source": [
    "![finite difference](fig2.png)"
   ]
  },
  {
   "cell_type": "markdown",
   "metadata": {},
   "source": [
    "Remember your calculus. \n",
    "\n",
    "$$\\frac{dv}{dt}=\\lim_{t \\to 0} \\frac{\\Delta v}{\\Delta t}$$\n",
    "\n",
    "So to best approximate the solution, we would continue to shrink the difference, here called the time step ($\\Delta t$) to improve our results. Lets substitute and test it out.\n",
    "\n",
    "$$\\frac{v(t_{i+1})-v(t_i)}{t_{i+1}-t_i}=g-\\frac{c}{m}v(t_i)$$\n",
    "\n",
    "If we rearrange this we get the following:\n",
    "\n",
    "$$v(t_{i+1})=v(t_i)+\\left [g-\\frac{c}{m}v(t_i)\\right](t_{i+1}-t_i)$$\n",
    "\n",
    "Now we have an algebraic equation that we can use to solve numerically for the solution. Using the following algorithm:\n",
    "\n",
    "$$New\\space Value = old\\space value+slope \\times step\\space size$$\n",
    "\n",
    "This is called Euler's Method and we will come back to it later in this course."
   ]
  },
  {
   "cell_type": "code",
   "execution_count": null,
   "metadata": {},
   "outputs": [],
   "source": []
  },
  {
   "cell_type": "code",
   "execution_count": null,
   "metadata": {},
   "outputs": [],
   "source": []
  },
  {
   "cell_type": "code",
   "execution_count": null,
   "metadata": {},
   "outputs": [],
   "source": []
  },
  {
   "cell_type": "code",
   "execution_count": null,
   "metadata": {},
   "outputs": [],
   "source": []
  },
  {
   "cell_type": "code",
   "execution_count": null,
   "metadata": {},
   "outputs": [],
   "source": []
  }
 ],
 "metadata": {
  "kernelspec": {
   "display_name": "Python 3",
   "language": "python",
   "name": "python3"
  },
  "language_info": {
   "codemirror_mode": {
    "name": "ipython",
    "version": 3
   },
   "file_extension": ".py",
   "mimetype": "text/x-python",
   "name": "python",
   "nbconvert_exporter": "python",
   "pygments_lexer": "ipython3",
   "version": "3.7.2"
  }
 },
 "nbformat": 4,
 "nbformat_minor": 2
}
